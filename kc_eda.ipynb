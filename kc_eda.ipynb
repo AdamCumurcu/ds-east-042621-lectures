{
 "cells": [
  {
   "cell_type": "markdown",
   "metadata": {},
   "source": [
    "# Step 1\n",
    "\n",
    "**Load libraries**"
   ]
  },
  {
   "cell_type": "code",
   "execution_count": null,
   "metadata": {},
   "outputs": [],
   "source": [
    "import pandas as pd\n",
    "pd.set_option('display.max_columns', 300)\n",
    "pd.set_option('display.max_rows', 200)\n",
    "import numpy as np\n",
    "import seaborn as sns\n",
    "from matplotlib import pyplot as plt \n",
    "import warnings\n",
    "warnings.filterwarnings(\"ignore\")\n",
    "import pandas\n",
    "from pathlib import Path\n",
    "from statsmodels.formula.api import ols\n",
    "from sklearn import linear_model\n",
    "from sklearn.linear_model import LinearRegression\n",
    "from sklearn.model_selection import train_test_split\n",
    "from sklearn import metrics\n",
    "from sklearn.preprocessing import PolynomialFeatures\n",
    "from sklearn.preprocessing import StandardScaler"
   ]
  },
  {
   "cell_type": "markdown",
   "metadata": {},
   "source": [
    "# Step 2\n",
    "\n",
    "**Read in data**"
   ]
  },
  {
   "cell_type": "code",
   "execution_count": null,
   "metadata": {
    "scrolled": true
   },
   "outputs": [],
   "source": [
    "# import kc_house_data_train.csv, drop 'Unnamed' column\n",
    "df_train = pd.read_csv('kc_house_data_train.csv', index_col = 'id').drop(columns='Unnamed: 0')\n",
    "pd.set_option(\"display.max_columns\", None)\n",
    "df_train.head()"
   ]
  },
  {
   "cell_type": "code",
   "execution_count": null,
   "metadata": {},
   "outputs": [],
   "source": [
    "df_train.shape"
   ]
  },
  {
   "cell_type": "code",
   "execution_count": null,
   "metadata": {
    "scrolled": false
   },
   "outputs": [],
   "source": [
    "df_train.describe()"
   ]
  },
  {
   "cell_type": "code",
   "execution_count": null,
   "metadata": {},
   "outputs": [],
   "source": [
    "df_train.isna().any()"
   ]
  },
  {
   "cell_type": "code",
   "execution_count": null,
   "metadata": {},
   "outputs": [],
   "source": [
    "df_train.nunique(axis=0)"
   ]
  },
  {
   "cell_type": "markdown",
   "metadata": {},
   "source": [
    "# Step 3\n",
    "\n",
    "\n",
    "**EDA**"
   ]
  },
  {
   "cell_type": "code",
   "execution_count": null,
   "metadata": {},
   "outputs": [],
   "source": [
    "# distribution of values for all variables\n",
    "sns.set_theme(style=\"darkgrid\")\n",
    "df_train.hist(bins=50, figsize=(20,15))\n",
    "plt.show()"
   ]
  },
  {
   "cell_type": "markdown",
   "metadata": {},
   "source": [
    "# Observations\n",
    "\n",
    "bedrooms: the min is 0. All houses generally should have bedrooms. This could be a case of missing values.\n",
    "\n",
    "bedrooms: the max is 33. The square footage of this house will have to be looked at to affirm this makes sense. This could also be a case of mistype.\n",
    "\n",
    "bathrooms: the min is 0. All houses have at least 1 bathroom. This could be a case of missing value or non traditional properties, like barns.\n",
    "\n",
    "floors: The number of floors seems to be a float with .5. In real-estate definition a 1.5 storey house means that the house has a floor that only spans half the size of the main floor. The data is valid here.\n",
    "\n",
    "waterfront: the max is 1. The value is 0 at 25%, 50% and 75%. This makes sense since this variable is a dummy. Houses that have a waterfront view have a value of 1 and for no waterfront view the value is 0.\n",
    "\n",
    "view: the max is 4 but the value is 0 at 25%, 50% and 75%. This tells me that some houses seem to have a view rating of even 0.\n",
    "sqft_basement: the values at the 25th and 50th percentile is 0. This could mean that only some houses have basements and others don't.\n",
    "\n",
    "yr_renovated: The value is 0 at 25%, 50% and 75%. This could mean that some house were never renovated once built."
   ]
  },
  {
   "cell_type": "code",
   "execution_count": null,
   "metadata": {
    "scrolled": false
   },
   "outputs": [],
   "source": [
    "#sns.set_theme(style=\"darkgrid\")\n",
    "#df_train['price'].hist(bins=50, figsize=(11.7,8.27))\n",
    "#plt.show()"
   ]
  },
  {
   "cell_type": "code",
   "execution_count": null,
   "metadata": {},
   "outputs": [],
   "source": [
    "corr = df_train.corr()\n",
    "\n",
    "sns.set(rc={'figure.figsize':(12,9)})\n",
    "sns.heatmap(corr, xticklabels=corr.columns, \\\n",
    "            yticklabels=corr.columns, \\\n",
    "            annot=False, cmap='Blues', center= 0)\n",
    "plt.title('Degrees of Correlation in dataset');"
   ]
  },
  {
   "cell_type": "code",
   "execution_count": null,
   "metadata": {
    "scrolled": false
   },
   "outputs": [],
   "source": [
    "#corr = df_train.corr().abs()\n",
    "\n",
    "#sns.set(rc={'figure.figsize':(12,9)})\n",
    "#sns.heatmap(corr, xticklabels=corr.columns, \\\n",
    "#            yticklabels=corr.columns, \\\n",
    "#            annot=False, cmap='Blues', center= 0)\n",
    "#plt.title('Degrees of Correlation in dataset');"
   ]
  },
  {
   "cell_type": "markdown",
   "metadata": {},
   "source": [
    "## Date"
   ]
  },
  {
   "cell_type": "code",
   "execution_count": null,
   "metadata": {},
   "outputs": [],
   "source": [
    "type(df_train['date'])"
   ]
  },
  {
   "cell_type": "code",
   "execution_count": null,
   "metadata": {},
   "outputs": [],
   "source": [
    "# Removing the time variable from date\n",
    "df_train['date'] = df_train['date'].map(lambda x: x[:8])\n",
    "\n",
    "# Altering the cleaned date into datetime type\n",
    "df_train['date'] = pd.to_datetime(df_train['date'])\n"
   ]
  },
  {
   "cell_type": "code",
   "execution_count": null,
   "metadata": {},
   "outputs": [],
   "source": [
    "df_train.corr()['price'].abs().sort_values()"
   ]
  },
  {
   "cell_type": "markdown",
   "metadata": {},
   "source": [
    "## Year renovated"
   ]
  },
  {
   "cell_type": "code",
   "execution_count": null,
   "metadata": {},
   "outputs": [],
   "source": [
    "#Change values of years renovated\n",
    "renovated = np.where(df_train['yr_renovated'] == 0, df_train['yr_built'], df_train['yr_renovated'])"
   ]
  },
  {
   "cell_type": "code",
   "execution_count": null,
   "metadata": {},
   "outputs": [],
   "source": [
    "renovated = df_train['yr_renovated']"
   ]
  },
  {
   "cell_type": "code",
   "execution_count": null,
   "metadata": {
    "scrolled": false
   },
   "outputs": [],
   "source": [
    "df_train.info()"
   ]
  },
  {
   "cell_type": "code",
   "execution_count": null,
   "metadata": {},
   "outputs": [],
   "source": [
    "df_train.nunique(axis=0)"
   ]
  },
  {
   "cell_type": "code",
   "execution_count": null,
   "metadata": {},
   "outputs": [],
   "source": [
    "#df_train['second_sale'] = [1 if x == True else 0 for x in df_train.duplicated(subset='id', keep='last')]\n"
   ]
  },
  {
   "cell_type": "markdown",
   "metadata": {},
   "source": [
    "# Bedrooms"
   ]
  },
  {
   "cell_type": "code",
   "execution_count": null,
   "metadata": {},
   "outputs": [],
   "source": [
    "# fix the value for the house with 33 bedrooms\n",
    "df_train['bedrooms'][2402100895] = 3"
   ]
  },
  {
   "cell_type": "code",
   "execution_count": null,
   "metadata": {},
   "outputs": [],
   "source": [
    "df_train.corr()['price']['bedrooms']"
   ]
  },
  {
   "cell_type": "code",
   "execution_count": null,
   "metadata": {},
   "outputs": [],
   "source": [
    "sns.set_theme(style=\"darkgrid\")\n",
    "ax = sns.boxplot(x=df_train[\"bedrooms\"])\n",
    "sns.set(rc={'figure.figsize':(11.7,8.27)})"
   ]
  },
  {
   "cell_type": "code",
   "execution_count": null,
   "metadata": {},
   "outputs": [],
   "source": [
    "sns.set_style('darkgrid')\n",
    "x = df_train['bedrooms']\n",
    "y = df_train['price']\n",
    "fig, ax = plt.subplots()\n",
    "ax = sns.barplot(x=x,y=y, data=df_train)\n",
    "ax.ticklabel_format(style='plain', axis='y')\n",
    "plt.show()\n"
   ]
  },
  {
   "cell_type": "code",
   "execution_count": null,
   "metadata": {},
   "outputs": [],
   "source": [
    "# maybe drop >10 bedrooms\n",
    "sns.set(style=\"darkgrid\")\n",
    "sns.boxplot(x=df_train[\"bedrooms\"],y=df_train[\"price\"])\n",
    "plt.title(\"Number of bedrooms in homes sold\")"
   ]
  },
  {
   "cell_type": "code",
   "execution_count": null,
   "metadata": {},
   "outputs": [],
   "source": [
    "# H0: number of bedrooms does not affect house price\n",
    "# Ha: number of bedrooms affects house price\n",
    "# Anova (f test)\n",
    "\n",
    "import scipy.stats as st\n",
    "\n",
    "st.f_oneway(df_train['bedrooms'],df_train['price'])\n",
    "#pvalue is less than .05 therefore we reject the null hypothesis"
   ]
  },
  {
   "cell_type": "code",
   "execution_count": null,
   "metadata": {},
   "outputs": [],
   "source": [
    "#run linear regression model. low R-squared score\n",
    "ols(formula='price~bedrooms', data = df_train).fit().summary()"
   ]
  },
  {
   "cell_type": "code",
   "execution_count": null,
   "metadata": {},
   "outputs": [],
   "source": [
    "#Run linear regression model on dummied bedrooms. R-squared is higher but still low overall.\n",
    "ols(formula='price~C(bedrooms)', data = df_train).fit().summary()"
   ]
  },
  {
   "cell_type": "code",
   "execution_count": null,
   "metadata": {},
   "outputs": [],
   "source": [
    "df_train = df_train.merge((pd.get_dummies(df_train['bedrooms'], drop_first = True)),\n",
    "                          how = 'left', left_index = True, right_index = True)\n",
    "df_train"
   ]
  },
  {
   "cell_type": "code",
   "execution_count": null,
   "metadata": {},
   "outputs": [],
   "source": [
    "dfpd.get_dummies(df)"
   ]
  },
  {
   "cell_type": "code",
   "execution_count": null,
   "metadata": {},
   "outputs": [],
   "source": [
    "df_train.shape"
   ]
  },
  {
   "cell_type": "markdown",
   "metadata": {},
   "source": [
    "# Bathrooms"
   ]
  },
  {
   "cell_type": "code",
   "execution_count": null,
   "metadata": {},
   "outputs": [],
   "source": [
    "df_train.corr()['price']['bathrooms']"
   ]
  },
  {
   "cell_type": "code",
   "execution_count": null,
   "metadata": {
    "scrolled": false
   },
   "outputs": [],
   "source": [
    "sns.set_style('darkgrid')\n",
    "x = df_train['bathrooms']\n",
    "y = df_train['price']\n",
    "fig, ax = plt.subplots()\n",
    "ax = sns.barplot(x=x,y=y, data=df_train)\n",
    "ax.ticklabel_format(style='plain', axis='y')\n",
    "plt.show()"
   ]
  },
  {
   "cell_type": "code",
   "execution_count": null,
   "metadata": {},
   "outputs": [],
   "source": [
    "sns.set_style('darkgrid')\n",
    "x = df_train['bathrooms']\n",
    "y = df_train['price']\n",
    "fig, ax = plt.subplots()\n",
    "ax = sns.boxplot(x=x,y=y, data=df_train)\n",
    "ax.ticklabel_format(style='plain', axis='y')\n",
    "plt.show()"
   ]
  },
  {
   "cell_type": "code",
   "execution_count": null,
   "metadata": {},
   "outputs": [],
   "source": [
    "sns.set_theme(style=\"darkgrid\")\n",
    "ax = sns.boxplot(x=df_train[\"bathrooms\"])\n",
    "sns.set(rc={'figure.figsize':(11.7,8.27)})"
   ]
  },
  {
   "cell_type": "code",
   "execution_count": null,
   "metadata": {
    "scrolled": true
   },
   "outputs": [],
   "source": [
    "ols(formula='price~bathrooms', data = df_train).fit().summary()"
   ]
  },
  {
   "cell_type": "code",
   "execution_count": null,
   "metadata": {},
   "outputs": [],
   "source": [
    "ols(formula='price~C(bathrooms)', data = df_train).fit().summary()"
   ]
  },
  {
   "cell_type": "code",
   "execution_count": null,
   "metadata": {},
   "outputs": [],
   "source": [
    "df_train['bathrooms'].mean()"
   ]
  },
  {
   "cell_type": "code",
   "execution_count": null,
   "metadata": {},
   "outputs": [],
   "source": [
    "df_train['bathrooms'].value_counts()"
   ]
  },
  {
   "cell_type": "code",
   "execution_count": null,
   "metadata": {},
   "outputs": [],
   "source": [
    "#df_train['1_bathroom'] = np.select([df_train['bathrooms'] <= 1, df_train['bathrooms']>1], [1, 0])\n",
    "#df_train['2_bathroom'] = np.select([df_train['bathrooms'] <= 2, df_train['bathrooms']>1], [1, 0])\n",
    "#df_train['3_bathroom'] = np.select([df_train['bathrooms'] <= 3, df_train['bathrooms']>2], [1, 0])\n",
    "#df_train['4_bathroom'] = np.select([df_train['bathrooms'] <= 4, df_train['bathrooms']>3], [1, 0])\n",
    "#df_train['5_bathroom'] = np.select([df_train['bathrooms'] <= 5, df_train['bathrooms']>4], [1, 0])\n",
    "#df_train['6_bathroom'] = np.select([df_train['bathrooms'] <= 6, df_train['bathrooms']>5], [1, 0])\n",
    "#df_train['7_bathroom'] = np.select([df_train['bathrooms'] <= 7, df_train['bathrooms']>6], [1, 0])\n",
    "#df_train['8_bathroom'] = np.select([df_train['bathrooms'] <= 8, df_train['bathrooms']>7], [1, 0])"
   ]
  },
  {
   "cell_type": "code",
   "execution_count": null,
   "metadata": {},
   "outputs": [],
   "source": [
    "df_train['1_bathroom'] = np.where((df_train['bathrooms'] <= 1) & (df_train['bathrooms']>1), 1, 0)\n",
    "df_train['2_bathroom'] = np.where((df_train['bathrooms'] <= 2) & (df_train['bathrooms']>1), 1, 0)\n",
    "df_train['3_bathroom'] = np.where((df_train['bathrooms'] <= 3) & (df_train['bathrooms']>2), 1, 0)\n",
    "df_train['4_bathroom'] = np.where((df_train['bathrooms'] <= 4) & (df_train['bathrooms']>3), 1, 0)\n",
    "df_train['5_bathroom'] = np.where((df_train['bathrooms'] <= 5) & (df_train['bathrooms']>4), 1, 0)\n",
    "df_train['6_bathroom'] = np.where((df_train['bathrooms'] <= 6) & (df_train['bathrooms']>5), 1, 0)\n",
    "df_train['7_bathroom'] = np.where((df_train['bathrooms'] <= 7) & (df_train['bathrooms']>6), 1, 0)\n",
    "df_train['8_bathroom'] = np.where((df_train['bathrooms'] <= 8) & (df_train['bathrooms']>7), 1, 0)"
   ]
  },
  {
   "cell_type": "code",
   "execution_count": null,
   "metadata": {},
   "outputs": [],
   "source": [
    "df_train.head()"
   ]
  },
  {
   "cell_type": "markdown",
   "metadata": {},
   "source": [
    "# Square footage"
   ]
  },
  {
   "cell_type": "code",
   "execution_count": null,
   "metadata": {},
   "outputs": [],
   "source": [
    "df_train.corr()['price']['sqft_living']"
   ]
  },
  {
   "cell_type": "code",
   "execution_count": null,
   "metadata": {},
   "outputs": [],
   "source": [
    "sns.set_style('darkgrid')\n",
    "x = df_train['sqft_living']\n",
    "y = df_train['price']\n",
    "fig, ax = plt.subplots()\n",
    "ax = sns.lineplot(x=x,y=y, data=df_train)\n",
    "ax.ticklabel_format(style='plain', axis='y')\n",
    "plt.show()"
   ]
  },
  {
   "cell_type": "code",
   "execution_count": null,
   "metadata": {},
   "outputs": [],
   "source": [
    "sns.set_style('darkgrid')\n",
    "x = df_train['sqft_living']\n",
    "y = df_train['price']\n",
    "fig, ax = plt.subplots()\n",
    "ax = sns.scatterplot(x=x,y=y, data=df_train)\n",
    "ax.ticklabel_format(style='plain', axis='y')\n",
    "plt.show()"
   ]
  },
  {
   "cell_type": "code",
   "execution_count": null,
   "metadata": {},
   "outputs": [],
   "source": [
    "# amount of squarefootage data distribution\n",
    "sns.set_theme(style=\"darkgrid\")\n",
    "ax = sns.boxplot(x=df_train[\"sqft_living\"])\n",
    "sns.set(rc={'figure.figsize':(11.7,8.27)})"
   ]
  },
  {
   "cell_type": "code",
   "execution_count": null,
   "metadata": {
    "scrolled": false
   },
   "outputs": [],
   "source": [
    "sns.set_theme(style=\"darkgrid\")\n",
    "df_train['sqft_living'].hist(bins=50, figsize=(11.7,8.27))\n",
    "plt.show()"
   ]
  },
  {
   "cell_type": "code",
   "execution_count": null,
   "metadata": {},
   "outputs": [],
   "source": [
    "ols(formula='price~sqft_living', data = df_train).fit().summary()"
   ]
  },
  {
   "cell_type": "markdown",
   "metadata": {},
   "source": [
    "# Lot size"
   ]
  },
  {
   "cell_type": "code",
   "execution_count": null,
   "metadata": {},
   "outputs": [],
   "source": [
    "df_train.corr()['price']['sqft_lot']"
   ]
  },
  {
   "cell_type": "code",
   "execution_count": null,
   "metadata": {},
   "outputs": [],
   "source": [
    "sns.set_theme(style=\"darkgrid\")\n",
    "ax = sns.boxplot(x=df_train[\"sqft_lot\"])\n",
    "sns.set(rc={'figure.figsize':(11.7,8.27)})"
   ]
  },
  {
   "cell_type": "markdown",
   "metadata": {},
   "source": [
    "# Lot size of 15 closest neighbors"
   ]
  },
  {
   "cell_type": "code",
   "execution_count": null,
   "metadata": {},
   "outputs": [],
   "source": [
    "df_train.corr()['price']['sqft_lot15']"
   ]
  },
  {
   "cell_type": "code",
   "execution_count": null,
   "metadata": {
    "scrolled": false
   },
   "outputs": [],
   "source": [
    "sns.set_theme(style=\"darkgrid\")\n",
    "ax = sns.boxplot(x=df_train[\"sqft_lot15\"])\n",
    "sns.set(rc={'figure.figsize':(11.7,8.27)})"
   ]
  },
  {
   "cell_type": "code",
   "execution_count": null,
   "metadata": {},
   "outputs": [],
   "source": [
    "df_train.sort_values('sqft_lot15', ascending = True)"
   ]
  },
  {
   "cell_type": "code",
   "execution_count": null,
   "metadata": {},
   "outputs": [],
   "source": [
    "len(df_train['zipcode'].unique())"
   ]
  },
  {
   "cell_type": "code",
   "execution_count": null,
   "metadata": {},
   "outputs": [],
   "source": [
    "print(df_train['lat'].min())\n",
    "print(df_train['lat'].max())"
   ]
  },
  {
   "cell_type": "code",
   "execution_count": null,
   "metadata": {},
   "outputs": [],
   "source": [
    "print(df_train['long'].min())\n",
    "print(df_train['long'].max())"
   ]
  },
  {
   "cell_type": "code",
   "execution_count": null,
   "metadata": {},
   "outputs": [],
   "source": [
    "sns.set_theme(style=\"darkgrid\")\n",
    "ax = sns.boxplot(x=df_train[\"zipcode\"])\n",
    "sns.set(rc={'figure.figsize':(11.7,8.27)})"
   ]
  },
  {
   "cell_type": "code",
   "execution_count": null,
   "metadata": {},
   "outputs": [],
   "source": [
    "sns.set_theme(style=\"darkgrid\")\n",
    "ax = sns.boxplot(x=df_train[\"lat\"])\n",
    "sns.set(rc={'figure.figsize':(11.7,8.27)})"
   ]
  },
  {
   "cell_type": "code",
   "execution_count": null,
   "metadata": {},
   "outputs": [],
   "source": [
    "sns.set_theme(style=\"darkgrid\")\n",
    "ax = sns.boxplot(x=df_train[\"long\"])\n",
    "sns.set(rc={'figure.figsize':(11.7,8.27)})"
   ]
  },
  {
   "cell_type": "markdown",
   "metadata": {},
   "source": [
    "# Floors"
   ]
  },
  {
   "cell_type": "code",
   "execution_count": null,
   "metadata": {},
   "outputs": [],
   "source": [
    "df_train.corr()['price']['floors']"
   ]
  },
  {
   "cell_type": "code",
   "execution_count": null,
   "metadata": {},
   "outputs": [],
   "source": [
    "df_train['floors'].value_counts()"
   ]
  },
  {
   "cell_type": "code",
   "execution_count": null,
   "metadata": {},
   "outputs": [],
   "source": [
    "sns.set_style('darkgrid')\n",
    "x = df_train['floors']\n",
    "y = df_train['price']\n",
    "fig, ax = plt.subplots()\n",
    "ax = sns.barplot(x=x,y=y, data=df_train)\n",
    "ax.ticklabel_format(style='plain', axis='y')\n",
    "plt.show()"
   ]
  },
  {
   "cell_type": "code",
   "execution_count": null,
   "metadata": {},
   "outputs": [],
   "source": [
    "sns.set_style('darkgrid')\n",
    "x = df_train['grade']\n",
    "y = df_train['price']\n",
    "fig, ax = plt.subplots()\n",
    "ax = sns.boxplot(x=x,y=y, data=df_train)\n",
    "ax.ticklabel_format(style='plain', axis='y')\n",
    "plt.show()"
   ]
  },
  {
   "cell_type": "code",
   "execution_count": null,
   "metadata": {},
   "outputs": [],
   "source": [
    "sns.set_theme(style=\"darkgrid\")\n",
    "ax = sns.boxplot(x=df_train[\"floors\"])\n",
    "sns.set(rc={'figure.figsize':(11.7,8.27)})"
   ]
  },
  {
   "cell_type": "code",
   "execution_count": null,
   "metadata": {},
   "outputs": [],
   "source": [
    "sns.set_style('darkgrid')\n",
    "x = df_train['floors']\n",
    "y = df_train['price']\n",
    "fig, ax = plt.subplots()\n",
    "ax = sns.scatterplot(x=x,y=y, data=df_train)\n",
    "ax.ticklabel_format(style='plain', axis='y')\n",
    "plt.show()"
   ]
  },
  {
   "cell_type": "code",
   "execution_count": null,
   "metadata": {},
   "outputs": [],
   "source": [
    "#column_1 = df[\"a\"]\n",
    "#column_2 = df[\"c\"]\n",
    "#correlation = column_1. corr(column_2) calculate correlation between `column_1` and `column_2`\n",
    "#print(correlation)"
   ]
  },
  {
   "cell_type": "code",
   "execution_count": null,
   "metadata": {},
   "outputs": [],
   "source": [
    "df_train['condition'].value_counts()"
   ]
  },
  {
   "cell_type": "markdown",
   "metadata": {},
   "source": [
    "# Zipcode"
   ]
  },
  {
   "cell_type": "code",
   "execution_count": null,
   "metadata": {},
   "outputs": [],
   "source": [
    "df_train.info"
   ]
  },
  {
   "cell_type": "code",
   "execution_count": null,
   "metadata": {},
   "outputs": [],
   "source": [
    "#need to figure out how to use the dummies here\n",
    "df_train['price'].corr(df_train['zipcode'])"
   ]
  },
  {
   "cell_type": "code",
   "execution_count": null,
   "metadata": {},
   "outputs": [],
   "source": [
    "sns.set_style('darkgrid')\n",
    "x = df_train['zipcode']\n",
    "y = df_train['price']\n",
    "fig, ax = plt.subplots()\n",
    "ax = sns.barplot(x=x,y=y, data=df_train)\n",
    "ax.ticklabel_format(style='plain', axis='y')\n",
    "plt.xticks(rotation=90)\n",
    "plt.show()"
   ]
  },
  {
   "cell_type": "code",
   "execution_count": null,
   "metadata": {},
   "outputs": [],
   "source": [
    "sns.scatterplot(data = df_train, x = df_train['zipcode'], y = df_train['price'])\n",
    "\n",
    "plt.show()"
   ]
  },
  {
   "cell_type": "code",
   "execution_count": null,
   "metadata": {},
   "outputs": [],
   "source": [
    "df_top5zip_price = df_train.groupby(\"zipcode\")[\"price\"].mean().sort_values(ascending = False)[:5]\n",
    "df_mean_price = df_train.price.mean()\n",
    "df_top5zip_price"
   ]
  },
  {
   "cell_type": "code",
   "execution_count": null,
   "metadata": {},
   "outputs": [],
   "source": [
    "df_mean_price = df_train.price.mean()\n",
    "df_mean_price"
   ]
  },
  {
   "cell_type": "code",
   "execution_count": null,
   "metadata": {},
   "outputs": [],
   "source": [
    "mean_price_by_zip = df_train.groupby(\"zipcode\")[\"price\"].mean().sort_values(ascending = False)[:70]"
   ]
  },
  {
   "cell_type": "code",
   "execution_count": null,
   "metadata": {},
   "outputs": [],
   "source": [
    "count_by_zip = df_train.groupby(\"zipcode\")[\"price\"].count().sort_values(ascending = False)[:70]\n",
    "mean_price_by_zip = mean_price_by_zip.to_frame()\n",
    "mean_price_by_zip['count'] = count_by_zip\n",
    "mean_price_by_zip"
   ]
  },
  {
   "cell_type": "code",
   "execution_count": null,
   "metadata": {
    "scrolled": true
   },
   "outputs": [],
   "source": [
    "mean_price_by_zip.sort_values('count')\n",
    "#pandas.set_option('display.max_rows', None)"
   ]
  },
  {
   "cell_type": "code",
   "execution_count": null,
   "metadata": {
    "scrolled": true
   },
   "outputs": [],
   "source": [
    "mean_price_by_zip.sort_values('price')"
   ]
  },
  {
   "cell_type": "code",
   "execution_count": null,
   "metadata": {},
   "outputs": [],
   "source": [
    "top5_zip_by_mean_price = df_train.groupby(\"zipcode\")['price'].mean().sort_values(ascending = False)[:5]\n",
    "total_mean_price = df_train.price.mean()\n",
    "top5_zip_by_mean_price"
   ]
  },
  {
   "cell_type": "code",
   "execution_count": null,
   "metadata": {},
   "outputs": [],
   "source": [
    "top5_zips_by_avg_number_of_bedrooms = df_train.groupby(\"zipcode\")['bedrooms'].mean().sort_values(ascending = False)[:5]\n",
    "total_mean_bedrooms = df_train.price.mean()"
   ]
  },
  {
   "cell_type": "code",
   "execution_count": null,
   "metadata": {},
   "outputs": [],
   "source": [
    "sns.set_style('whitegrid')\n",
    "x = ['98039', '98004', '98040', '98112', '98102']\n",
    "y = [2.202790e+06, 1.396883e+06, 1.183018e+06, 1.119458e+06, 9.336715e+05]\n",
    "fig, ax = plt.subplots(figsize = (15, 5))\n",
    "ax = sns.barplot(x=x,y=y, data=df_train)\n",
    "ax.ticklabel_format(style='plain', axis='y')\n",
    "\n",
    "ax.set(xlabel='Zip Code', ylabel='Avg. Price')\n",
    "plt.title(\"Average Home Price  \") # You can comment this line out if you don't need title\n",
    "plt.hlines(total_mean_price, -.5 ,4.5, colors=\"red\", label=\"Average Price\")\n",
    "\n",
    "plt.show()\n"
   ]
  },
  {
   "cell_type": "code",
   "execution_count": null,
   "metadata": {
    "scrolled": true
   },
   "outputs": [],
   "source": [
    "# add dummy columns for zipcodes\n",
    "df_train = df_train.merge((pd.get_dummies(df_train['zipcode'], drop_first = True)),\n",
    "                          how = 'left', left_index = True, right_index = True)\n",
    "df_train"
   ]
  },
  {
   "cell_type": "code",
   "execution_count": null,
   "metadata": {},
   "outputs": [],
   "source": [
    "from statsmodels.formula.api import ols\n",
    "ols(formula='price~sqft_living+waterfront', data= df_train).fit().summary()"
   ]
  },
  {
   "cell_type": "code",
   "execution_count": null,
   "metadata": {},
   "outputs": [],
   "source": [
    "from statsmodels.formula.api import ols\n",
    "ols(formula='price~zipcode', data= df_train).fit().summary()"
   ]
  },
  {
   "cell_type": "code",
   "execution_count": null,
   "metadata": {},
   "outputs": [],
   "source": [
    "# drop zipcodes with p value higher than .05\n",
    "from statsmodels.formula.api import ols\n",
    "ols(formula='price~C(zipcode)', data= df_train).fit().summary()"
   ]
  },
  {
   "cell_type": "markdown",
   "metadata": {},
   "source": [
    "# Basement"
   ]
  },
  {
   "cell_type": "code",
   "execution_count": null,
   "metadata": {},
   "outputs": [],
   "source": [
    "# add a \n",
    "df_train['has_basement'] = [0 if x == 0 else 1 for x in df_train.sqft_basement]\n",
    "df_train"
   ]
  },
  {
   "cell_type": "code",
   "execution_count": null,
   "metadata": {},
   "outputs": [],
   "source": [
    "df_train['price'].corr(df_train['has_basement'])"
   ]
  },
  {
   "cell_type": "code",
   "execution_count": null,
   "metadata": {},
   "outputs": [],
   "source": [
    "sns.set(style=\"darkgrid\")\n",
    "sns.boxplot(x=df_train[\"has_basement\"],y=df_train[\"price\"])\n",
    "plt.title(\"Median prices of homes with basements and without\")"
   ]
  },
  {
   "cell_type": "code",
   "execution_count": null,
   "metadata": {},
   "outputs": [],
   "source": [
    "df_train.corr()['price']['has_basement']"
   ]
  },
  {
   "cell_type": "code",
   "execution_count": null,
   "metadata": {},
   "outputs": [],
   "source": [
    "# 2 sample t test\n",
    "# H0: There is no difference in price between homes with a basement and those without.\n",
    "# Ha: The is a difference in price between homes with a basement and those without.\n",
    "\n",
    "no_basement = df_train[df_train['has_basement']==0]['price']\n",
    "basement = df_train[df_train['has_basement']==1]['price']\n",
    "\n",
    "st.ttest_ind(no_basement, basement)"
   ]
  },
  {
   "cell_type": "markdown",
   "metadata": {},
   "source": [
    "#  Price per square foot"
   ]
  },
  {
   "cell_type": "code",
   "execution_count": null,
   "metadata": {},
   "outputs": [],
   "source": [
    "# add new feature--price per square foot\n",
    "df_train['price_sqft'] = df_train['price']/df_train['sqft_living']\n",
    "df_train"
   ]
  },
  {
   "cell_type": "code",
   "execution_count": null,
   "metadata": {},
   "outputs": [],
   "source": [
    "df_train['price'].corr(df_train['price_sqft'])"
   ]
  },
  {
   "cell_type": "code",
   "execution_count": null,
   "metadata": {},
   "outputs": [],
   "source": [
    "sns.scatterplot(data = df_train, x = df_train['price_sqft'], y = df_train['price'])\n",
    "\n",
    "plt.show()"
   ]
  },
  {
   "cell_type": "code",
   "execution_count": null,
   "metadata": {},
   "outputs": [],
   "source": [
    "# distribution of price per squarefoot\n",
    "sns.set_theme(style=\"darkgrid\")\n",
    "df_train['price_sqft'].hist(bins=50, figsize=(11.7,8.27))\n",
    "plt.show()"
   ]
  },
  {
   "cell_type": "markdown",
   "metadata": {},
   "source": [
    "# Bedroom to bathroom ratio"
   ]
  },
  {
   "cell_type": "code",
   "execution_count": null,
   "metadata": {},
   "outputs": [],
   "source": [
    "# add new featre--bedroom bathroom ratio\n",
    "df_train['bed_bath_ratio'] = round(df_train['bedrooms']/df_train['bathrooms'], 2)\n",
    "df_train"
   ]
  },
  {
   "cell_type": "code",
   "execution_count": null,
   "metadata": {},
   "outputs": [],
   "source": [
    "df_train.corr()['price']['bed_bath_ratio']"
   ]
  },
  {
   "cell_type": "code",
   "execution_count": null,
   "metadata": {},
   "outputs": [],
   "source": [
    "sns.scatterplot(data = df_train, x = df_train['bed_bath_ratio'], y = df_train['price'])\n",
    "\n",
    "plt.show()"
   ]
  },
  {
   "cell_type": "code",
   "execution_count": null,
   "metadata": {},
   "outputs": [],
   "source": [
    "ols(formula='price~C(bed_bath_ratio)', data= df_train).fit().summary()"
   ]
  },
  {
   "cell_type": "markdown",
   "metadata": {},
   "source": [
    "# Yard space\n",
    "\n",
    "**There does not appear to be a correlation between price and yard space**"
   ]
  },
  {
   "cell_type": "code",
   "execution_count": null,
   "metadata": {},
   "outputs": [],
   "source": [
    "df_train['yard_space'] = round(df_train.sqft_lot - (df_train.sqft_living / df_train.floors), 2)\n",
    "df_train"
   ]
  },
  {
   "cell_type": "code",
   "execution_count": null,
   "metadata": {},
   "outputs": [],
   "source": [
    "# very low to no correlation\n",
    "df_train['price'].corr(df_train['yard_space'])"
   ]
  },
  {
   "cell_type": "code",
   "execution_count": null,
   "metadata": {},
   "outputs": [],
   "source": [
    "sns.set_style('darkgrid')\n",
    "x = df_train['yard_space']\n",
    "y = df_train['price']\n",
    "fig, ax = plt.subplots()\n",
    "ax = sns.scatterplot(x=x,y=y, data=df_train)\n",
    "ax.ticklabel_format(style='plain', axis='y')\n",
    "plt.show()"
   ]
  },
  {
   "cell_type": "code",
   "execution_count": null,
   "metadata": {},
   "outputs": [],
   "source": [
    "ols(formula='price~yard_space', data = df_train).fit().summary()"
   ]
  },
  {
   "cell_type": "markdown",
   "metadata": {},
   "source": [
    "# Grade"
   ]
  },
  {
   "cell_type": "code",
   "execution_count": null,
   "metadata": {},
   "outputs": [],
   "source": [
    "df_train['grade'].value_counts()"
   ]
  },
  {
   "cell_type": "code",
   "execution_count": null,
   "metadata": {},
   "outputs": [],
   "source": [
    "df_train['price'].corr(df_train['grade'])"
   ]
  },
  {
   "cell_type": "code",
   "execution_count": null,
   "metadata": {},
   "outputs": [],
   "source": [
    "sns.set_style('darkgrid')\n",
    "x = df_train['grade']\n",
    "y = df_train['price']\n",
    "fig, ax = plt.subplots()\n",
    "ax = sns.barplot(x=x,y=y, data=df_train)\n",
    "ax.ticklabel_format(style='plain', axis='y')\n",
    "plt.show()"
   ]
  },
  {
   "cell_type": "code",
   "execution_count": null,
   "metadata": {},
   "outputs": [],
   "source": [
    "sns.set_style('darkgrid')\n",
    "x = df_train['grade']\n",
    "y = df_train['price']\n",
    "fig, ax = plt.subplots()\n",
    "ax = sns.boxplot(x=x,y=y, data=df_train)\n",
    "ax.ticklabel_format(style='plain', axis='y')\n",
    "plt.show()"
   ]
  },
  {
   "cell_type": "code",
   "execution_count": null,
   "metadata": {},
   "outputs": [],
   "source": [
    "sns.set_style('darkgrid')\n",
    "x = df_train['grade']\n",
    "y = df_train['price']\n",
    "fig, ax = plt.subplots()\n",
    "ax = sns.scatterplot(x=x,y=y, data=df_train)\n",
    "ax.ticklabel_format(style='plain', axis='y')\n",
    "plt.show()"
   ]
  },
  {
   "cell_type": "code",
   "execution_count": null,
   "metadata": {},
   "outputs": [],
   "source": [
    "#df_train['low_grade'] = np.where(df_train['grade'] < 5, 1, 0)\n",
    "#df_train['mid_grade'] = np.where(df_train['grade'].isin(range(5,11)), 1, 0)\n",
    "#df_train['high_grade'] = np.where(df_train['grade'] > 10, 1, 0)\n"
   ]
  },
  {
   "cell_type": "code",
   "execution_count": null,
   "metadata": {},
   "outputs": [],
   "source": [
    "#df_train['price'].corr(df_train['high_grade'])"
   ]
  },
  {
   "cell_type": "code",
   "execution_count": null,
   "metadata": {},
   "outputs": [],
   "source": [
    "df_train['price'].corr(df_train['grade'])"
   ]
  },
  {
   "cell_type": "code",
   "execution_count": null,
   "metadata": {},
   "outputs": [],
   "source": [
    "ols(formula='price~grade', data = df_train).fit().summary()"
   ]
  },
  {
   "cell_type": "code",
   "execution_count": null,
   "metadata": {},
   "outputs": [],
   "source": [
    "df_train['low_grade'] = np.where(df_train['grade'] < 6, 1, 0)\n",
    "df_train['below_average_grade'] = np.where(df_train['grade'] == 6, 1, 0)\n",
    "df_train['average_grade'] = np.where(df_train['grade'] ==7, 1, 0)\n",
    "df_train['above_average_grade'] = np.where(df_train['grade'].isin(range(8,9)), 1, 0)\n",
    "df_train['high_Grade'] = np.where(df_train['grade'] > 9, 1, 0)"
   ]
  },
  {
   "cell_type": "code",
   "execution_count": null,
   "metadata": {},
   "outputs": [],
   "source": [
    "df_train.head()"
   ]
  },
  {
   "cell_type": "markdown",
   "metadata": {},
   "source": [
    "# View"
   ]
  },
  {
   "cell_type": "code",
   "execution_count": null,
   "metadata": {},
   "outputs": [],
   "source": [
    "df_train['view'].value_counts()"
   ]
  },
  {
   "cell_type": "code",
   "execution_count": null,
   "metadata": {},
   "outputs": [],
   "source": [
    "sns.set_style('darkgrid')\n",
    "x = df_train['view']\n",
    "y = df_train['price']\n",
    "fig, ax = plt.subplots()\n",
    "ax = sns.barplot(x=x,y=y, data=df_train)\n",
    "ax.ticklabel_format(style='plain', axis='y')\n",
    "plt.show()\n"
   ]
  },
  {
   "cell_type": "code",
   "execution_count": null,
   "metadata": {},
   "outputs": [],
   "source": [
    "sns.set_style('darkgrid')\n",
    "x = df_train['view']\n",
    "y = df_train['price']\n",
    "fig, ax = plt.subplots()\n",
    "ax = sns.boxplot(x=x,y=y, data=df_train)\n",
    "ax.ticklabel_format(style='plain', axis='y')\n",
    "plt.show()"
   ]
  },
  {
   "cell_type": "code",
   "execution_count": null,
   "metadata": {},
   "outputs": [],
   "source": [
    "sns.set_style('darkgrid')\n",
    "x = df_train['view']\n",
    "y = df_train['price']\n",
    "fig, ax = plt.subplots()\n",
    "ax = sns.scatterplot(x=x,y=y, data=df_train)\n",
    "ax.ticklabel_format(style='plain', axis='y')\n",
    "plt.show()"
   ]
  },
  {
   "cell_type": "code",
   "execution_count": null,
   "metadata": {},
   "outputs": [],
   "source": [
    "df_train['view'].value_counts()"
   ]
  },
  {
   "cell_type": "code",
   "execution_count": null,
   "metadata": {},
   "outputs": [],
   "source": [
    "df_train['price'].corr(df_train['view'])"
   ]
  },
  {
   "cell_type": "code",
   "execution_count": null,
   "metadata": {},
   "outputs": [],
   "source": [
    "ols(formula='price~view', data = df_train).fit().summary()"
   ]
  },
  {
   "cell_type": "code",
   "execution_count": null,
   "metadata": {},
   "outputs": [],
   "source": [
    "ols(formula='price~C(view)', data = df_train).fit().summary()"
   ]
  },
  {
   "cell_type": "code",
   "execution_count": null,
   "metadata": {},
   "outputs": [],
   "source": [
    "# Anova (f test)\n",
    "\n",
    "import scipy.stats as st\n",
    "\n",
    "st.f_oneway(df_train['view'],df_train['price'])"
   ]
  },
  {
   "cell_type": "markdown",
   "metadata": {},
   "source": [
    "# Waterfront"
   ]
  },
  {
   "cell_type": "code",
   "execution_count": null,
   "metadata": {},
   "outputs": [],
   "source": [
    "# a value of one indicates that a home is on the waterfront\n",
    "df_train['waterfront'].value_counts()"
   ]
  },
  {
   "cell_type": "code",
   "execution_count": null,
   "metadata": {},
   "outputs": [],
   "source": [
    "sns.set_style('darkgrid')\n",
    "x = df_train['waterfront']\n",
    "y = df_train['price']\n",
    "fig, ax = plt.subplots()\n",
    "ax = sns.barplot(x=x,y=y, data=df_train)\n",
    "ax.ticklabel_format(style='plain', axis='y')\n",
    "plt.show()"
   ]
  },
  {
   "cell_type": "code",
   "execution_count": null,
   "metadata": {},
   "outputs": [],
   "source": [
    "sns.set_style('darkgrid')\n",
    "x = df_train['waterfront']\n",
    "y = df_train['price']\n",
    "fig, ax = plt.subplots()\n",
    "ax = sns.boxplot(x=x,y=y, data=df_train)\n",
    "ax.ticklabel_format(style='plain', axis='y')\n",
    "plt.show()"
   ]
  },
  {
   "cell_type": "code",
   "execution_count": null,
   "metadata": {},
   "outputs": [],
   "source": [
    "sns.set_style('darkgrid')\n",
    "x = df_train['waterfront']\n",
    "y = df_train['price']\n",
    "fig, ax = plt.subplots()\n",
    "ax = sns.scatterplot(x=x,y=y, data=df_train)\n",
    "ax.ticklabel_format(style='plain', axis='y')\n",
    "plt.show()"
   ]
  },
  {
   "cell_type": "code",
   "execution_count": null,
   "metadata": {},
   "outputs": [],
   "source": [
    "df_train['price'].corr(df_train['waterfront'])"
   ]
  },
  {
   "cell_type": "code",
   "execution_count": null,
   "metadata": {},
   "outputs": [],
   "source": [
    "# 2 sample t test\n",
    "not_waterfront = df_train[df_train['waterfront']==0]['price']\n",
    "waterfront = df_train[df_train['waterfront']==1]['price']\n",
    "\n",
    "st.ttest_ind(not_waterfront, waterfront)"
   ]
  },
  {
   "cell_type": "code",
   "execution_count": null,
   "metadata": {},
   "outputs": [],
   "source": [
    "ols(formula='price~waterfront', data = df_train).fit().summary()"
   ]
  },
  {
   "cell_type": "markdown",
   "metadata": {},
   "source": [
    "# Condition"
   ]
  },
  {
   "cell_type": "code",
   "execution_count": null,
   "metadata": {},
   "outputs": [],
   "source": [
    "df_train['price'].corr(df_train['condition'])"
   ]
  },
  {
   "cell_type": "code",
   "execution_count": null,
   "metadata": {},
   "outputs": [],
   "source": [
    "df_train['sqft_living'].corr(df_train['condition'])"
   ]
  },
  {
   "cell_type": "code",
   "execution_count": null,
   "metadata": {},
   "outputs": [],
   "source": [
    "grid = sns.FacetGrid(df_train, col = \"condition\", hue = \"condition\", col_wrap=5)\n",
    "grid.map(sns.scatterplot, \"sqft_living\", \"price\")\n",
    "\n",
    "grid.add_legend()\n",
    "\n",
    "plt.show()\n"
   ]
  },
  {
   "cell_type": "markdown",
   "metadata": {},
   "source": [
    "# Year built"
   ]
  },
  {
   "cell_type": "code",
   "execution_count": null,
   "metadata": {},
   "outputs": [],
   "source": [
    "df_train['price'].corr(df_train['yr_built'])"
   ]
  },
  {
   "cell_type": "code",
   "execution_count": null,
   "metadata": {},
   "outputs": [],
   "source": [
    "sns.set_style('darkgrid')\n",
    "x = df_train['yr_built']\n",
    "y = df_train['price']\n",
    "fig, ax = plt.subplots()\n",
    "ax = sns.barplot(x=x,y=y, data=df_train)\n",
    "ax.ticklabel_format(style='plain', axis='y')\n",
    "plt.xticks(rotation=90)\n",
    "plt.show()\n"
   ]
  },
  {
   "cell_type": "markdown",
   "metadata": {},
   "source": [
    "# Bedrooms X Bathrooms"
   ]
  },
  {
   "cell_type": "code",
   "execution_count": null,
   "metadata": {},
   "outputs": [],
   "source": [
    "df_train['price'].corr(df_train['bedrooms'])"
   ]
  },
  {
   "cell_type": "code",
   "execution_count": null,
   "metadata": {},
   "outputs": [],
   "source": [
    "df_train['price'].corr(df_train['bathrooms'])"
   ]
  },
  {
   "cell_type": "code",
   "execution_count": null,
   "metadata": {},
   "outputs": [],
   "source": [
    "df_train['bedrooms'].corr(df_train['bathrooms'])"
   ]
  },
  {
   "cell_type": "code",
   "execution_count": null,
   "metadata": {},
   "outputs": [],
   "source": [
    "bed_x_bath = df_train['bedrooms']*df_train['bathrooms']"
   ]
  },
  {
   "cell_type": "code",
   "execution_count": null,
   "metadata": {},
   "outputs": [],
   "source": [
    "df_train['price'].corr(bed_x_bath)"
   ]
  },
  {
   "cell_type": "code",
   "execution_count": null,
   "metadata": {},
   "outputs": [],
   "source": [
    "sns.set_style('darkgrid')\n",
    "x = bed_x_bath\n",
    "y = df_train['price']\n",
    "fig, ax = plt.subplots()\n",
    "ax = sns.scatterplot(x=x,y=y, data=df_train)\n",
    "ax.ticklabel_format(style='plain', axis='y')\n",
    "plt.show()"
   ]
  },
  {
   "cell_type": "markdown",
   "metadata": {},
   "source": [
    "# Maps"
   ]
  },
  {
   "cell_type": "code",
   "execution_count": null,
   "metadata": {},
   "outputs": [],
   "source": [
    "sns.set_style('darkgrid')\n",
    "x = df_train['long']\n",
    "y = df_train['lat']\n",
    "fig, ax = plt.subplots()\n",
    "ax = sns.scatterplot(x=x,y=y, data=df_train)\n",
    "ax.ticklabel_format(style='plain', axis='y')\n",
    "plt.show()"
   ]
  },
  {
   "cell_type": "code",
   "execution_count": null,
   "metadata": {},
   "outputs": [],
   "source": [
    "#import folium\n",
    "\n",
    "#kc_map = folium.Map(location = [47.5480, -121.9836], tiles = 'OpenStreetMap', zoom_start=9)\n",
    "#kc_coord = list(zip(df_train['lat'], df_train['long']))\n",
    "\n",
    "#for coord in kc_coord:\n",
    "#    folium.Marker(location = coord).add_to(kc_map)\n",
    "\n",
    "#kc_map"
   ]
  },
  {
   "cell_type": "markdown",
   "metadata": {},
   "source": [
    "# Part 2 - Modeling"
   ]
  },
  {
   "cell_type": "code",
   "execution_count": null,
   "metadata": {},
   "outputs": [],
   "source": [
    "df_train.head()"
   ]
  },
  {
   "cell_type": "code",
   "execution_count": null,
   "metadata": {},
   "outputs": [],
   "source": [
    "df_train2 = df_train.drop(['date', 'price', 'bedrooms', 'bathrooms', 'zipcode', 'grade'], axis=1)"
   ]
  },
  {
   "cell_type": "code",
   "execution_count": null,
   "metadata": {},
   "outputs": [],
   "source": [
    "df_train2.head()"
   ]
  },
  {
   "cell_type": "code",
   "execution_count": null,
   "metadata": {},
   "outputs": [],
   "source": [
    "df_train2.shape"
   ]
  },
  {
   "cell_type": "code",
   "execution_count": null,
   "metadata": {},
   "outputs": [],
   "source": [
    "#features = ['bedrooms', 'bathrooms', 'sqft_living', 'grade', 'zipcode']"
   ]
  },
  {
   "cell_type": "code",
   "execution_count": null,
   "metadata": {},
   "outputs": [],
   "source": [
    "df_features = df_train2"
   ]
  },
  {
   "cell_type": "code",
   "execution_count": null,
   "metadata": {},
   "outputs": [],
   "source": [
    "target = df_train['price']"
   ]
  },
  {
   "cell_type": "code",
   "execution_count": null,
   "metadata": {},
   "outputs": [],
   "source": [
    "from sklearn.linear_model import LinearRegression\n",
    "\n",
    "#instantiate a linear regression object\n",
    "lm = LinearRegression()\n",
    "\n",
    "#fit the linear regression to the data\n",
    "lm = lm.fit(df_features, target)\n",
    "\n",
    "#access output\n",
    "print(lm.intercept_)\n",
    "print(lm.coef_)\n",
    "print(\"R^2: \", lm.score(df_features, target))"
   ]
  },
  {
   "cell_type": "code",
   "execution_count": null,
   "metadata": {},
   "outputs": [],
   "source": [
    "#call train_test_split on the data and capture the results\n",
    "X_train, X_test, y_train, y_test = train_test_split(df_features, target, random_state=1, test_size=0.2)"
   ]
  },
  {
   "cell_type": "code",
   "execution_count": null,
   "metadata": {},
   "outputs": [],
   "source": [
    "from sklearn.feature_selection import SelectKBest, f_regression, mutual_info_regression\n",
    "\n",
    "selector = SelectKBest(f_regression, k=100)\n",
    "\n",
    "selector.fit(X_train, y_train)"
   ]
  },
  {
   "cell_type": "markdown",
   "metadata": {},
   "source": [
    "# Use SKlearn to create new features"
   ]
  },
  {
   "cell_type": "code",
   "execution_count": null,
   "metadata": {},
   "outputs": [],
   "source": [
    "from sklearn.preprocessing import PolynomialFeatures\n",
    "\n",
    "poly = PolynomialFeatures(degree=2, include_bias=False)"
   ]
  },
  {
   "cell_type": "code",
   "execution_count": null,
   "metadata": {},
   "outputs": [],
   "source": [
    "poly_data = poly.fit_transform(df_features)"
   ]
  },
  {
   "cell_type": "code",
   "execution_count": null,
   "metadata": {},
   "outputs": [],
   "source": [
    "poly_data"
   ]
  },
  {
   "cell_type": "code",
   "execution_count": null,
   "metadata": {},
   "outputs": [],
   "source": [
    "len(df_features.columns)"
   ]
  },
  {
   "cell_type": "code",
   "execution_count": null,
   "metadata": {},
   "outputs": [],
   "source": [
    "poly_columns = poly.get_feature_names(df_features.columns)"
   ]
  },
  {
   "cell_type": "code",
   "execution_count": null,
   "metadata": {},
   "outputs": [],
   "source": [
    "len(poly_columns)"
   ]
  },
  {
   "cell_type": "code",
   "execution_count": null,
   "metadata": {},
   "outputs": [],
   "source": [
    "df_poly = pd.DataFrame(poly_data, columns=poly_columns)"
   ]
  },
  {
   "cell_type": "code",
   "execution_count": null,
   "metadata": {},
   "outputs": [],
   "source": [
    "df_poly.head()"
   ]
  },
  {
   "cell_type": "code",
   "execution_count": null,
   "metadata": {},
   "outputs": [],
   "source": [
    "df_features.shape"
   ]
  },
  {
   "cell_type": "code",
   "execution_count": null,
   "metadata": {},
   "outputs": [],
   "source": [
    "df_poly.shape"
   ]
  },
  {
   "cell_type": "markdown",
   "metadata": {},
   "source": [
    "# Fit and assess new model"
   ]
  },
  {
   "cell_type": "code",
   "execution_count": null,
   "metadata": {},
   "outputs": [],
   "source": [
    "#instantiate a linear regression object\n",
    "lm_2 = LinearRegression()\n",
    "\n",
    "#fit the linear regression to the data\n",
    "\n",
    "lm_2 = lm_2.fit(df_poly, target)\n",
    "\n",
    "#access output\n",
    "#print(lm_2.intercept_)\n",
    "#print(lm_2.coef_)\n",
    "print(\"R^2: \", lm_2.score(df_poly, target))"
   ]
  },
  {
   "cell_type": "markdown",
   "metadata": {},
   "source": [
    "# Create Train and Test Split"
   ]
  },
  {
   "cell_type": "code",
   "execution_count": null,
   "metadata": {},
   "outputs": [],
   "source": [
    "#import train_test_split from sklearn package\n",
    "from sklearn.model_selection import train_test_split"
   ]
  },
  {
   "cell_type": "code",
   "execution_count": null,
   "metadata": {},
   "outputs": [],
   "source": [
    "#call train_test_split on the data and capture the results\n",
    "X_train, X_test, y_train, y_test = train_test_split(df_features, target, random_state=1, test_size=0.2)"
   ]
  },
  {
   "cell_type": "code",
   "execution_count": null,
   "metadata": {},
   "outputs": [],
   "source": [
    "#check the shape of the results\n",
    "print(\"Training set - Features: \", X_train.shape, \"Target: \", y_train.shape)\n",
    "print(\"Training set - Features: \", X_test.shape, \"Target: \",y_test.shape)"
   ]
  },
  {
   "cell_type": "code",
   "execution_count": null,
   "metadata": {},
   "outputs": [],
   "source": [
    "#fit a model\n",
    "from sklearn import linear_model\n",
    "\n",
    "#instantiate a linear regression object\n",
    "lm = linear_model.LinearRegression()\n",
    "\n",
    "#fit the linear regression to the training data\n",
    "lm.fit(X_train, y_train) # use capital 'X'\n",
    "\n",
    "\n",
    "print(lm.intercept_)\n",
    "print(lm.coef_)"
   ]
  },
  {
   "cell_type": "markdown",
   "metadata": {},
   "source": [
    "# How well did my model perform"
   ]
  },
  {
   "cell_type": "code",
   "execution_count": null,
   "metadata": {},
   "outputs": [],
   "source": [
    "print (\"R^2 Score:\", lm.score(X_train, y_train))"
   ]
  },
  {
   "cell_type": "code",
   "execution_count": null,
   "metadata": {},
   "outputs": [],
   "source": [
    "#predict on the training data\n",
    "y_train_pred = lm.predict(X_train)"
   ]
  },
  {
   "cell_type": "code",
   "execution_count": null,
   "metadata": {},
   "outputs": [],
   "source": [
    "y_train_pred"
   ]
  },
  {
   "cell_type": "code",
   "execution_count": null,
   "metadata": {},
   "outputs": [],
   "source": [
    "#import the metrics module from sklearn\n",
    "from sklearn import metrics\n",
    "\n",
    "train_mae = metrics.mean_absolute_error(y_train, y_train_pred)\n",
    "train_mse = metrics.mean_squared_error(y_train, y_train_pred)\n",
    "train_rmse = np.sqrt(metrics.mean_squared_error(y_train, y_train_pred))\n",
    "\n",
    "\n",
    "print('Mean Absolute Error:', train_mae )\n",
    "print('Mean Squared Error:',  train_mse)\n",
    "print('Root Mean Squared Error:' , train_rmse)"
   ]
  },
  {
   "cell_type": "code",
   "execution_count": null,
   "metadata": {},
   "outputs": [],
   "source": [
    "price_std = target.std()\n",
    "\n",
    "print('Z-Score of Mean Absolute Error:', train_mae/price_std )\n",
    "print('Z-Score of Root Mean Squared Error:' , train_rmse/price_std)"
   ]
  },
  {
   "cell_type": "markdown",
   "metadata": {},
   "source": [
    "# Predicting the Test Set"
   ]
  },
  {
   "cell_type": "code",
   "execution_count": null,
   "metadata": {},
   "outputs": [],
   "source": [
    "#predict on the test set of data\n",
    "y_pred = lm.predict(X_test)"
   ]
  },
  {
   "cell_type": "code",
   "execution_count": null,
   "metadata": {},
   "outputs": [],
   "source": [
    "y_pred[:10]"
   ]
  },
  {
   "cell_type": "code",
   "execution_count": null,
   "metadata": {},
   "outputs": [],
   "source": [
    "print (\"Score:\", lm.score(X_test, y_test))"
   ]
  },
  {
   "cell_type": "code",
   "execution_count": null,
   "metadata": {},
   "outputs": [],
   "source": [
    "test_mae = metrics.mean_absolute_error(y_test, y_pred)\n",
    "test_rmse = np.sqrt(metrics.mean_squared_error(y_test, y_pred))\n",
    "\n",
    "\n",
    "print('Mean Absolute Error:' + str(metrics.mean_absolute_error(y_test, y_pred)))\n",
    "print('Mean Squared Error:' + str(metrics.mean_squared_error(y_test, y_pred)))\n",
    "print('Root Mean Squared Error:' + str(np.sqrt(metrics.mean_squared_error(y_test, y_pred))))"
   ]
  },
  {
   "cell_type": "code",
   "execution_count": null,
   "metadata": {},
   "outputs": [],
   "source": [
    "print('Mean Absolute Error  Z:', test_mae/price_std )\n",
    "print('Root Mean Squared Error Z:' , test_rmse/price_std)"
   ]
  },
  {
   "cell_type": "markdown",
   "metadata": {},
   "source": [
    "# Comparing our Model's performance on training data versus test data"
   ]
  },
  {
   "cell_type": "code",
   "execution_count": null,
   "metadata": {},
   "outputs": [],
   "source": [
    "print('Training: ', int(train_rmse), \"vs. Testing: \", int(test_rmse))"
   ]
  },
  {
   "cell_type": "markdown",
   "metadata": {},
   "source": [
    "# Feature Selection"
   ]
  }
 ],
 "metadata": {
  "kernelspec": {
   "display_name": "Python (learn-env)",
   "language": "python",
   "name": "learn-env"
  },
  "language_info": {
   "codemirror_mode": {
    "name": "ipython",
    "version": 3
   },
   "file_extension": ".py",
   "mimetype": "text/x-python",
   "name": "python",
   "nbconvert_exporter": "python",
   "pygments_lexer": "ipython3",
   "version": "3.8.5"
  }
 },
 "nbformat": 4,
 "nbformat_minor": 4
}
